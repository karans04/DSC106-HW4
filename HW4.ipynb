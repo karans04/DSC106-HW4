{
 "cells": [
  {
   "cell_type": "markdown",
   "metadata": {},
   "source": [
    "# HW4 : A visit to the movie zoo!\n",
    "\n",
    "![](https://vignette.wikia.nocookie.net/bojackhorseman/images/f/f2/HSACWDTK%3FDTKT%3FLFO%21%21.png/revision/latest?cb=20150720050503)"
   ]
  },
  {
   "cell_type": "markdown",
   "metadata": {},
   "source": [
    "## Task\n",
    "In this homework, your task is to visualize THREE non-typical charts on anything related to your favorite **movie star!**\n",
    "This means you CANNOT use the Big 4 chart types or their close variants (i.e. Pie, Bar, Line and Scatter, Area, etc.)\n",
    "\n",
    "You are free to use any other chart type whether or not they were covered in class!\n",
    "The lecture on Visit To The Zoo is a good place to start to get ideas on what kinds of charts exist.\n",
    "\n",
    "For the data, you are free to use any data source you deem fit.\n",
    "For charting, we will NOT be constraining the technology you use. \n",
    "You are free to produce the charts in any way you would like.\n",
    "\n",
    "You will be judged on\n",
    "* Creativity\n",
    "* Presentation Quality\n",
    "* Data Quality (Did your visualization reveal something interesting?)\n",
    "\n",
    "For extra credit, you can make a fully interactive visualization."
   ]
  },
  {
   "cell_type": "markdown",
   "metadata": {},
   "source": [
    "## Ideas for Data Collection\n",
    "\n",
    "Here, we show an example of how to collect data about Arnold Schwarzenegger!\n",
    "Do note that this is just an example of the kind of data you can collect.\n",
    "You are **NOT** constrained\n",
    "* To the same movie star (you can pick your own!)\n",
    "* To the same *kind* of data\n",
    "* To the same data sources\n",
    "* or to anything else!\n",
    "\n",
    "This assignment gives you the power to do what you like!"
   ]
  },
  {
   "cell_type": "code",
   "execution_count": 8,
   "metadata": {},
   "outputs": [],
   "source": [
    "# from imdbpie import ImdbFacade\n",
    "from IPython.core.display import display, HTML\n",
    "from bs4 import BeautifulSoup\n",
    "import urllib.request\n",
    "import re"
   ]
  },
  {
   "cell_type": "markdown",
   "metadata": {},
   "source": [
    "#### Get data for Arnold Schwarzenegger"
   ]
  },
  {
   "cell_type": "code",
   "execution_count": 2,
   "metadata": {},
   "outputs": [
    {
     "ename": "NameError",
     "evalue": "name 'ImdbFacade' is not defined",
     "output_type": "error",
     "traceback": [
      "\u001b[0;31m---------------------------------------------------------------------------\u001b[0m",
      "\u001b[0;31mNameError\u001b[0m                                 Traceback (most recent call last)",
      "\u001b[0;32m<ipython-input-2-8e6391120725>\u001b[0m in \u001b[0;36m<module>\u001b[0;34m\u001b[0m\n\u001b[1;32m      1\u001b[0m \u001b[0;31m# Get an instance of IMDb class\u001b[0m\u001b[0;34m\u001b[0m\u001b[0;34m\u001b[0m\u001b[0;34m\u001b[0m\u001b[0m\n\u001b[0;32m----> 2\u001b[0;31m \u001b[0mimdb\u001b[0m \u001b[0;34m=\u001b[0m \u001b[0mImdbFacade\u001b[0m\u001b[0;34m(\u001b[0m\u001b[0;34m)\u001b[0m\u001b[0;34m\u001b[0m\u001b[0;34m\u001b[0m\u001b[0m\n\u001b[0m\u001b[1;32m      3\u001b[0m \u001b[0;34m\u001b[0m\u001b[0m\n\u001b[1;32m      4\u001b[0m \u001b[0;31m# Search for Arnold Schwarzenegger\u001b[0m\u001b[0;34m\u001b[0m\u001b[0;34m\u001b[0m\u001b[0;34m\u001b[0m\u001b[0m\n\u001b[1;32m      5\u001b[0m \u001b[0mpeople\u001b[0m \u001b[0;34m=\u001b[0m \u001b[0mimdb\u001b[0m\u001b[0;34m.\u001b[0m\u001b[0msearch_for_name\u001b[0m\u001b[0;34m(\u001b[0m\u001b[0;34m'Arnold Schwarzenegger'\u001b[0m\u001b[0;34m)\u001b[0m\u001b[0;34m\u001b[0m\u001b[0;34m\u001b[0m\u001b[0m\n",
      "\u001b[0;31mNameError\u001b[0m: name 'ImdbFacade' is not defined"
     ]
    }
   ],
   "source": [
    "# Get an instance of IMDb class\n",
    "imdb = ImdbFacade()\n",
    "\n",
    "# Search for Arnold Schwarzenegger\n",
    "people = imdb.search_for_name('Arnold Schwarzenegger')\n",
    "print(people)"
   ]
  },
  {
   "cell_type": "code",
   "execution_count": 111,
   "metadata": {},
   "outputs": [
    {
     "name": "stdout",
     "output_type": "stream",
     "text": [
      "bios\n",
      "birth_place\n",
      "date_of_birth\n",
      "filmography\n",
      "gender\n",
      "image\n",
      "imdb_id\n",
      "name\n"
     ]
    }
   ],
   "source": [
    "# Fetch information about him\n",
    "arnold = imdb.get_name(people[0].imdb_id)\n",
    "\n",
    "# What information do I have about him?\n",
    "print('\\n'.join([x for x in dir(arnold) if not x.startswith('__')]))"
   ]
  },
  {
   "cell_type": "code",
   "execution_count": 112,
   "metadata": {},
   "outputs": [
    {
     "name": "stdout",
     "output_type": "stream",
     "text": [
      "710\n"
     ]
    }
   ],
   "source": [
    "# How many movies does he have?\n",
    "print(len(arnold.filmography))"
   ]
  },
  {
   "cell_type": "code",
   "execution_count": 113,
   "metadata": {},
   "outputs": [],
   "source": [
    "# Let's fetch some more information about a movie\n",
    "movie = imdb.get_title(arnold.filmography[-1])"
   ]
  },
  {
   "cell_type": "code",
   "execution_count": 114,
   "metadata": {},
   "outputs": [
    {
     "name": "stdout",
     "output_type": "stream",
     "text": [
      "certification\n",
      "creators\n",
      "credits\n",
      "directors\n",
      "episode\n",
      "episodes\n",
      "genres\n",
      "image\n",
      "imdb_id\n",
      "plot_outline\n",
      "rating\n",
      "rating_count\n",
      "release_date\n",
      "releases\n",
      "runtime\n",
      "season\n",
      "stars\n",
      "title\n",
      "type\n",
      "writers\n",
      "year\n"
     ]
    }
   ],
   "source": [
    "# What information can I get about this movie?\n",
    "print('\\n'.join([x for x in dir(movie) if not x.startswith('__')]))"
   ]
  },
  {
   "cell_type": "code",
   "execution_count": 115,
   "metadata": {},
   "outputs": [
    {
     "name": "stdout",
     "output_type": "stream",
     "text": [
      "tt0096708\n"
     ]
    }
   ],
   "source": [
    "print(movie.imdb_id)"
   ]
  },
  {
   "cell_type": "code",
   "execution_count": 116,
   "metadata": {},
   "outputs": [
    {
     "data": {
      "text/html": [
       "\n",
       "    <div style=\"background-color:#FFDDDD\">\n",
       "    <h2> Warning! </h2>\n",
       "    <p> This code below is meant to be an example of what you can do. <br>\n",
       "        It is not guaranteed to work always, and will need to be tweaked!\n",
       "    </p>\n",
       "    </div>\n"
      ],
      "text/plain": [
       "<IPython.core.display.HTML object>"
      ]
     },
     "metadata": {},
     "output_type": "display_data"
    }
   ],
   "source": [
    "html = \"\"\"\n",
    "    <div style=\"background-color:#FFDDDD\">\n",
    "    <h2> Warning! </h2>\n",
    "    <p> This code below is meant to be an example of what you can do. <br>\n",
    "        It is not guaranteed to work always, and will need to be tweaked!\n",
    "    </p>\n",
    "    </div>\n",
    "\"\"\"\n",
    "display(HTML(html))"
   ]
  },
  {
   "cell_type": "markdown",
   "metadata": {},
   "source": [
    "#### Box office numbers"
   ]
  },
  {
   "cell_type": "code",
   "execution_count": 117,
   "metadata": {},
   "outputs": [
    {
     "name": "stdout",
     "output_type": "stream",
     "text": [
      "Total Domestic Earnings: $38,371,200\n",
      "Total International Earnings: $40,000,000\n",
      "Weekly Domestic Earnings:\n",
      "\tOct 26-Nov 1 \t: $5,560,930\n",
      "\tNov 2-8 \t: $5,752,018\n",
      "\tNov 9-15 \t: $4,764,277\n",
      "\tNov 16-22 \t: $5,208,881\n",
      "\tNov 23-29 \t: $4,851,910\n",
      "\tNov 30-Dec 6 \t: $3,741,759\n",
      "\tDec 7-13 \t: $2,002,925\n",
      "\tDec 14-20 \t: $1,399,646\n",
      "\tDec 21-27 \t: $722,260\n",
      "\tJan 11-17 \t: $752,723\n",
      "\tJan 18-24 \t: $618,670\n"
     ]
    }
   ],
   "source": [
    "# Let's experiment with Terminator\n",
    "imdb_id = 'tt0088247'\n",
    "\n",
    "# Fetch the box office numbers\n",
    "base = 'https://www.boxofficemojo.com'\n",
    "url = base + '/title/' + imdb_id\n",
    "source = urllib.request.urlopen(url).read()\n",
    "soup = BeautifulSoup(source,'lxml')\n",
    "\n",
    "table = soup('th', text=re.compile(r'Release Group'))[0].parent.parent\n",
    "group = table.findAll('tr', recursive=False)[1].find('a').get('href')\n",
    "url = base + group\n",
    "\n",
    "# Get total earnings domestic and international\n",
    "source = urllib.request.urlopen(url).read()\n",
    "soup = BeautifulSoup(source,'lxml')\n",
    "earnings = soup('h2', text=re.compile(r'Rollout'))[0].parent.parent.findAll('div')\n",
    "domestic = earnings[1].find('span', {'class': 'money'}).get_text()\n",
    "domestic_url = earnings[1].find('a').get('href')\n",
    "international = earnings[2].find('span', {'class': 'money'}).get_text()\n",
    "\n",
    "# Get weekly domestic earnings\n",
    "url = base + domestic_url\n",
    "url = url[:url.rfind('/')] + '/weekly/'\n",
    "source = urllib.request.urlopen(url).read()\n",
    "soup = BeautifulSoup(source,'lxml')\n",
    "table = soup.find('div', {'class':'a-section imdb-scroll-table-inner'}).findAll('tr')\n",
    "weekly = []\n",
    "for tr in table[1:]:\n",
    "    date = tr.findAll('td')[0].get_text()\n",
    "    earning = tr.findAll('td')[2].get_text()\n",
    "    weekly.append((date, earning))\n",
    "\n",
    "# Print the values we've just got!\n",
    "print(\"Total Domestic Earnings: %s\" % domestic)\n",
    "print(\"Total International Earnings: %s\" % international)\n",
    "print(\"Weekly Domestic Earnings:\")\n",
    "for date, earning in weekly:\n",
    "    print(\"\\t%s \\t: %s\" % (date, earning))"
   ]
  },
  {
   "cell_type": "markdown",
   "metadata": {},
   "source": [
    "## Other resources!"
   ]
  },
  {
   "cell_type": "markdown",
   "metadata": {},
   "source": [
    "This assignment doesn't have a restriction on where you can look for data.\n",
    "Further, we don't mind how you collect the data, or what data you collect.\n",
    "\n",
    "Here are some additional resources for this example, and you can customize it for your own!\n",
    "* Arnold Schwarzenegger Kill Count: https://www.youtube.com/watch?v=OE6jpTaOYMU\n",
    "* Arnold Schwarzenegger Top Quotes: https://www.youtube.com/watch?v=pDxn0Xfqkgw\n",
    "\n",
    "You could think about the IMDB network as a graph, with different actors connected through movies.\n",
    "\n",
    "Some other useful libraries/ databases:\n",
    "* IMDBPy\n",
    "* http://www.omdbapi.com/"
   ]
  },
  {
   "cell_type": "code",
   "execution_count": 141,
   "metadata": {},
   "outputs": [],
   "source": [
    "from wordcloud import WordCloud\n",
    "import re\n",
    "from collections import defaultdict\n",
    "import pandas as pd\n",
    "import plotly.graph_objects as go\n",
    "from wordcloud import WordCloud\n",
    "import matplotlib.pyplot as plt"
   ]
  },
  {
   "cell_type": "code",
   "execution_count": 139,
   "metadata": {},
   "outputs": [],
   "source": [
    "fp = 'bond.csv'\n",
    "bond_movies = pd.read_csv(fp)\n",
    "bond_movies['Budget'] = pd.to_numeric(bond_movies['Budget'].str.replace('$','').str.replace(',',''))\n",
    "bond_movies['Worldwide Box Office'] = pd.to_numeric(bond_movies['Worldwide Box Office'].str.replace('$','').str.replace(',',''))\n",
    "bond_movies['Release'] = pd.to_datetime(bond_movies.Release)\n",
    "bond_movies['prop'] = bond_movies['Worldwide Box Office'] / bond_movies['Budget']"
   ]
  },
  {
   "cell_type": "code",
   "execution_count": 155,
   "metadata": {},
   "outputs": [
    {
     "data": {
      "text/html": [
       "<div>\n",
       "<style scoped>\n",
       "    .dataframe tbody tr th:only-of-type {\n",
       "        vertical-align: middle;\n",
       "    }\n",
       "\n",
       "    .dataframe tbody tr th {\n",
       "        vertical-align: top;\n",
       "    }\n",
       "\n",
       "    .dataframe thead th {\n",
       "        text-align: right;\n",
       "    }\n",
       "</style>\n",
       "<table border=\"1\" class=\"dataframe\">\n",
       "  <thead>\n",
       "    <tr style=\"text-align: right;\">\n",
       "      <th></th>\n",
       "      <th>Release</th>\n",
       "      <th>Title</th>\n",
       "      <th>Budget</th>\n",
       "      <th>Opening Weekend</th>\n",
       "      <th>Domestic Box Office</th>\n",
       "      <th>Worldwide Box Office</th>\n",
       "      <th>prop</th>\n",
       "    </tr>\n",
       "  </thead>\n",
       "  <tbody>\n",
       "    <tr>\n",
       "      <th>0</th>\n",
       "      <td>2015-11-06</td>\n",
       "      <td>Spectre</td>\n",
       "      <td>300000000</td>\n",
       "      <td>$70,403,148</td>\n",
       "      <td>$200,074,175</td>\n",
       "      <td>879620923</td>\n",
       "      <td>2.932070</td>\n",
       "    </tr>\n",
       "    <tr>\n",
       "      <th>1</th>\n",
       "      <td>2012-11-08</td>\n",
       "      <td>Skyfall</td>\n",
       "      <td>200000000</td>\n",
       "      <td>$88,364,714</td>\n",
       "      <td>$304,360,277</td>\n",
       "      <td>1110526981</td>\n",
       "      <td>5.552635</td>\n",
       "    </tr>\n",
       "    <tr>\n",
       "      <th>2</th>\n",
       "      <td>2008-11-14</td>\n",
       "      <td>Quantum of Solace</td>\n",
       "      <td>230000000</td>\n",
       "      <td>$67,528,882</td>\n",
       "      <td>$169,368,427</td>\n",
       "      <td>591692078</td>\n",
       "      <td>2.572574</td>\n",
       "    </tr>\n",
       "    <tr>\n",
       "      <th>3</th>\n",
       "      <td>2006-11-17</td>\n",
       "      <td>Casino Royale</td>\n",
       "      <td>102000000</td>\n",
       "      <td>$40,833,156</td>\n",
       "      <td>$167,365,000</td>\n",
       "      <td>594420283</td>\n",
       "      <td>5.827650</td>\n",
       "    </tr>\n",
       "    <tr>\n",
       "      <th>4</th>\n",
       "      <td>2002-11-22</td>\n",
       "      <td>Die Another Day</td>\n",
       "      <td>142000000</td>\n",
       "      <td>$47,072,040</td>\n",
       "      <td>$160,942,139</td>\n",
       "      <td>431942139</td>\n",
       "      <td>3.041846</td>\n",
       "    </tr>\n",
       "  </tbody>\n",
       "</table>\n",
       "</div>"
      ],
      "text/plain": [
       "     Release              Title     Budget Opening Weekend  \\\n",
       "0 2015-11-06            Spectre  300000000     $70,403,148   \n",
       "1 2012-11-08            Skyfall  200000000     $88,364,714   \n",
       "2 2008-11-14  Quantum of Solace  230000000     $67,528,882   \n",
       "3 2006-11-17      Casino Royale  102000000     $40,833,156   \n",
       "4 2002-11-22    Die Another Day  142000000     $47,072,040   \n",
       "\n",
       "  Domestic Box Office  Worldwide Box Office      prop  \n",
       "0        $200,074,175             879620923  2.932070  \n",
       "1        $304,360,277            1110526981  5.552635  \n",
       "2        $169,368,427             591692078  2.572574  \n",
       "3        $167,365,000             594420283  5.827650  \n",
       "4        $160,942,139             431942139  3.041846  "
      ]
     },
     "execution_count": 155,
     "metadata": {},
     "output_type": "execute_result"
    }
   ],
   "source": [
    "bond_movies.head()"
   ]
  },
  {
   "cell_type": "code",
   "execution_count": 140,
   "metadata": {},
   "outputs": [],
   "source": [
    "hover_text = bond_movies.Title\n",
    "bubble_size = bond_movies['Worldwide Box Office'] / bond_movies['Budget']  "
   ]
  },
  {
   "cell_type": "code",
   "execution_count": 148,
   "metadata": {},
   "outputs": [
    {
     "data": {
      "application/vnd.plotly.v1+json": {
       "config": {
        "plotlyServerURL": "https://plot.ly"
       },
       "data": [
        {
         "marker": {
          "size": [
           2.9320697433333334,
           5.552634905,
           2.5725742521739132,
           5.827649833333333,
           3.0418460492957746,
           2.67948637037037,
           3.086402509090909,
           5.940499016666666,
           3.718262261904762,
           4.78,
           5.087598666666667,
           4.444444444444445,
           6.818181818181818,
           6.975,
           6.783870967741936,
           13.242857142857142,
           13.942857142857143,
           23.114285714285714,
           16.11111111111111,
           10.25,
           11.74736842105263,
           15.688888888888888,
           41.63333333333333,
           39.45,
           59.567035
          ]
         },
         "mode": "markers",
         "text": [
          "Spectre",
          "Skyfall",
          "Quantum of Solace",
          "Casino Royale",
          "Die Another Day",
          "The World is Not Enough",
          "Tomorrow Never Dies",
          "Goldeneye",
          "Licence to Kill",
          "The Living Daylights",
          "A View to a Kill",
          "Never Say Never Again",
          "Octopussy",
          "For Your Eyes Only",
          "Moonraker",
          "The Spy Who Loved Me",
          "The Man with the Golden Gun",
          "Live and Let Die",
          "Diamonds Are Forever",
          "On Her Majesty's Secret Ser…",
          "You Only Live Twice",
          "Thunderball",
          "Goldfinger",
          "From Russia With Love",
          "Dr. No"
         ],
         "type": "scatter",
         "x": [
          "2015-11-06T00:00:00",
          "2012-11-08T00:00:00",
          "2008-11-14T00:00:00",
          "2006-11-17T00:00:00",
          "2002-11-22T00:00:00",
          "1999-11-19T00:00:00",
          "1997-12-19T00:00:00",
          "1995-11-17T00:00:00",
          "1989-07-14T00:00:00",
          "1987-07-31T00:00:00",
          "1985-05-24T00:00:00",
          "1983-10-07T00:00:00",
          "1983-06-10T00:00:00",
          "1981-06-26T00:00:00",
          "1979-06-29T00:00:00",
          "1977-07-13T00:00:00",
          "1974-12-20T00:00:00",
          "1973-06-27T00:00:00",
          "1971-12-17T00:00:00",
          "1969-12-18T00:00:00",
          "1967-06-13T00:00:00",
          "1965-12-29T00:00:00",
          "1964-12-22T00:00:00",
          "1964-04-08T00:00:00",
          "1963-05-08T00:00:00"
         ],
         "y": [
          2.9320697433333334,
          5.552634905,
          2.5725742521739132,
          5.827649833333333,
          3.0418460492957746,
          2.67948637037037,
          3.086402509090909,
          5.940499016666666,
          3.718262261904762,
          4.78,
          5.087598666666667,
          4.444444444444445,
          6.818181818181818,
          6.975,
          6.783870967741936,
          13.242857142857142,
          13.942857142857143,
          23.114285714285714,
          16.11111111111111,
          10.25,
          11.74736842105263,
          15.688888888888888,
          41.63333333333333,
          39.45,
          59.567035
         ]
        }
       ],
       "layout": {
        "template": {
         "data": {
          "bar": [
           {
            "error_x": {
             "color": "#2a3f5f"
            },
            "error_y": {
             "color": "#2a3f5f"
            },
            "marker": {
             "line": {
              "color": "#E5ECF6",
              "width": 0.5
             }
            },
            "type": "bar"
           }
          ],
          "barpolar": [
           {
            "marker": {
             "line": {
              "color": "#E5ECF6",
              "width": 0.5
             }
            },
            "type": "barpolar"
           }
          ],
          "carpet": [
           {
            "aaxis": {
             "endlinecolor": "#2a3f5f",
             "gridcolor": "white",
             "linecolor": "white",
             "minorgridcolor": "white",
             "startlinecolor": "#2a3f5f"
            },
            "baxis": {
             "endlinecolor": "#2a3f5f",
             "gridcolor": "white",
             "linecolor": "white",
             "minorgridcolor": "white",
             "startlinecolor": "#2a3f5f"
            },
            "type": "carpet"
           }
          ],
          "choropleth": [
           {
            "colorbar": {
             "outlinewidth": 0,
             "ticks": ""
            },
            "type": "choropleth"
           }
          ],
          "contour": [
           {
            "colorbar": {
             "outlinewidth": 0,
             "ticks": ""
            },
            "colorscale": [
             [
              0,
              "#0d0887"
             ],
             [
              0.1111111111111111,
              "#46039f"
             ],
             [
              0.2222222222222222,
              "#7201a8"
             ],
             [
              0.3333333333333333,
              "#9c179e"
             ],
             [
              0.4444444444444444,
              "#bd3786"
             ],
             [
              0.5555555555555556,
              "#d8576b"
             ],
             [
              0.6666666666666666,
              "#ed7953"
             ],
             [
              0.7777777777777778,
              "#fb9f3a"
             ],
             [
              0.8888888888888888,
              "#fdca26"
             ],
             [
              1,
              "#f0f921"
             ]
            ],
            "type": "contour"
           }
          ],
          "contourcarpet": [
           {
            "colorbar": {
             "outlinewidth": 0,
             "ticks": ""
            },
            "type": "contourcarpet"
           }
          ],
          "heatmap": [
           {
            "colorbar": {
             "outlinewidth": 0,
             "ticks": ""
            },
            "colorscale": [
             [
              0,
              "#0d0887"
             ],
             [
              0.1111111111111111,
              "#46039f"
             ],
             [
              0.2222222222222222,
              "#7201a8"
             ],
             [
              0.3333333333333333,
              "#9c179e"
             ],
             [
              0.4444444444444444,
              "#bd3786"
             ],
             [
              0.5555555555555556,
              "#d8576b"
             ],
             [
              0.6666666666666666,
              "#ed7953"
             ],
             [
              0.7777777777777778,
              "#fb9f3a"
             ],
             [
              0.8888888888888888,
              "#fdca26"
             ],
             [
              1,
              "#f0f921"
             ]
            ],
            "type": "heatmap"
           }
          ],
          "heatmapgl": [
           {
            "colorbar": {
             "outlinewidth": 0,
             "ticks": ""
            },
            "colorscale": [
             [
              0,
              "#0d0887"
             ],
             [
              0.1111111111111111,
              "#46039f"
             ],
             [
              0.2222222222222222,
              "#7201a8"
             ],
             [
              0.3333333333333333,
              "#9c179e"
             ],
             [
              0.4444444444444444,
              "#bd3786"
             ],
             [
              0.5555555555555556,
              "#d8576b"
             ],
             [
              0.6666666666666666,
              "#ed7953"
             ],
             [
              0.7777777777777778,
              "#fb9f3a"
             ],
             [
              0.8888888888888888,
              "#fdca26"
             ],
             [
              1,
              "#f0f921"
             ]
            ],
            "type": "heatmapgl"
           }
          ],
          "histogram": [
           {
            "marker": {
             "colorbar": {
              "outlinewidth": 0,
              "ticks": ""
             }
            },
            "type": "histogram"
           }
          ],
          "histogram2d": [
           {
            "colorbar": {
             "outlinewidth": 0,
             "ticks": ""
            },
            "colorscale": [
             [
              0,
              "#0d0887"
             ],
             [
              0.1111111111111111,
              "#46039f"
             ],
             [
              0.2222222222222222,
              "#7201a8"
             ],
             [
              0.3333333333333333,
              "#9c179e"
             ],
             [
              0.4444444444444444,
              "#bd3786"
             ],
             [
              0.5555555555555556,
              "#d8576b"
             ],
             [
              0.6666666666666666,
              "#ed7953"
             ],
             [
              0.7777777777777778,
              "#fb9f3a"
             ],
             [
              0.8888888888888888,
              "#fdca26"
             ],
             [
              1,
              "#f0f921"
             ]
            ],
            "type": "histogram2d"
           }
          ],
          "histogram2dcontour": [
           {
            "colorbar": {
             "outlinewidth": 0,
             "ticks": ""
            },
            "colorscale": [
             [
              0,
              "#0d0887"
             ],
             [
              0.1111111111111111,
              "#46039f"
             ],
             [
              0.2222222222222222,
              "#7201a8"
             ],
             [
              0.3333333333333333,
              "#9c179e"
             ],
             [
              0.4444444444444444,
              "#bd3786"
             ],
             [
              0.5555555555555556,
              "#d8576b"
             ],
             [
              0.6666666666666666,
              "#ed7953"
             ],
             [
              0.7777777777777778,
              "#fb9f3a"
             ],
             [
              0.8888888888888888,
              "#fdca26"
             ],
             [
              1,
              "#f0f921"
             ]
            ],
            "type": "histogram2dcontour"
           }
          ],
          "mesh3d": [
           {
            "colorbar": {
             "outlinewidth": 0,
             "ticks": ""
            },
            "type": "mesh3d"
           }
          ],
          "parcoords": [
           {
            "line": {
             "colorbar": {
              "outlinewidth": 0,
              "ticks": ""
             }
            },
            "type": "parcoords"
           }
          ],
          "pie": [
           {
            "automargin": true,
            "type": "pie"
           }
          ],
          "scatter": [
           {
            "marker": {
             "colorbar": {
              "outlinewidth": 0,
              "ticks": ""
             }
            },
            "type": "scatter"
           }
          ],
          "scatter3d": [
           {
            "line": {
             "colorbar": {
              "outlinewidth": 0,
              "ticks": ""
             }
            },
            "marker": {
             "colorbar": {
              "outlinewidth": 0,
              "ticks": ""
             }
            },
            "type": "scatter3d"
           }
          ],
          "scattercarpet": [
           {
            "marker": {
             "colorbar": {
              "outlinewidth": 0,
              "ticks": ""
             }
            },
            "type": "scattercarpet"
           }
          ],
          "scattergeo": [
           {
            "marker": {
             "colorbar": {
              "outlinewidth": 0,
              "ticks": ""
             }
            },
            "type": "scattergeo"
           }
          ],
          "scattergl": [
           {
            "marker": {
             "colorbar": {
              "outlinewidth": 0,
              "ticks": ""
             }
            },
            "type": "scattergl"
           }
          ],
          "scattermapbox": [
           {
            "marker": {
             "colorbar": {
              "outlinewidth": 0,
              "ticks": ""
             }
            },
            "type": "scattermapbox"
           }
          ],
          "scatterpolar": [
           {
            "marker": {
             "colorbar": {
              "outlinewidth": 0,
              "ticks": ""
             }
            },
            "type": "scatterpolar"
           }
          ],
          "scatterpolargl": [
           {
            "marker": {
             "colorbar": {
              "outlinewidth": 0,
              "ticks": ""
             }
            },
            "type": "scatterpolargl"
           }
          ],
          "scatterternary": [
           {
            "marker": {
             "colorbar": {
              "outlinewidth": 0,
              "ticks": ""
             }
            },
            "type": "scatterternary"
           }
          ],
          "surface": [
           {
            "colorbar": {
             "outlinewidth": 0,
             "ticks": ""
            },
            "colorscale": [
             [
              0,
              "#0d0887"
             ],
             [
              0.1111111111111111,
              "#46039f"
             ],
             [
              0.2222222222222222,
              "#7201a8"
             ],
             [
              0.3333333333333333,
              "#9c179e"
             ],
             [
              0.4444444444444444,
              "#bd3786"
             ],
             [
              0.5555555555555556,
              "#d8576b"
             ],
             [
              0.6666666666666666,
              "#ed7953"
             ],
             [
              0.7777777777777778,
              "#fb9f3a"
             ],
             [
              0.8888888888888888,
              "#fdca26"
             ],
             [
              1,
              "#f0f921"
             ]
            ],
            "type": "surface"
           }
          ],
          "table": [
           {
            "cells": {
             "fill": {
              "color": "#EBF0F8"
             },
             "line": {
              "color": "white"
             }
            },
            "header": {
             "fill": {
              "color": "#C8D4E3"
             },
             "line": {
              "color": "white"
             }
            },
            "type": "table"
           }
          ]
         },
         "layout": {
          "annotationdefaults": {
           "arrowcolor": "#2a3f5f",
           "arrowhead": 0,
           "arrowwidth": 1
          },
          "coloraxis": {
           "colorbar": {
            "outlinewidth": 0,
            "ticks": ""
           }
          },
          "colorscale": {
           "diverging": [
            [
             0,
             "#8e0152"
            ],
            [
             0.1,
             "#c51b7d"
            ],
            [
             0.2,
             "#de77ae"
            ],
            [
             0.3,
             "#f1b6da"
            ],
            [
             0.4,
             "#fde0ef"
            ],
            [
             0.5,
             "#f7f7f7"
            ],
            [
             0.6,
             "#e6f5d0"
            ],
            [
             0.7,
             "#b8e186"
            ],
            [
             0.8,
             "#7fbc41"
            ],
            [
             0.9,
             "#4d9221"
            ],
            [
             1,
             "#276419"
            ]
           ],
           "sequential": [
            [
             0,
             "#0d0887"
            ],
            [
             0.1111111111111111,
             "#46039f"
            ],
            [
             0.2222222222222222,
             "#7201a8"
            ],
            [
             0.3333333333333333,
             "#9c179e"
            ],
            [
             0.4444444444444444,
             "#bd3786"
            ],
            [
             0.5555555555555556,
             "#d8576b"
            ],
            [
             0.6666666666666666,
             "#ed7953"
            ],
            [
             0.7777777777777778,
             "#fb9f3a"
            ],
            [
             0.8888888888888888,
             "#fdca26"
            ],
            [
             1,
             "#f0f921"
            ]
           ],
           "sequentialminus": [
            [
             0,
             "#0d0887"
            ],
            [
             0.1111111111111111,
             "#46039f"
            ],
            [
             0.2222222222222222,
             "#7201a8"
            ],
            [
             0.3333333333333333,
             "#9c179e"
            ],
            [
             0.4444444444444444,
             "#bd3786"
            ],
            [
             0.5555555555555556,
             "#d8576b"
            ],
            [
             0.6666666666666666,
             "#ed7953"
            ],
            [
             0.7777777777777778,
             "#fb9f3a"
            ],
            [
             0.8888888888888888,
             "#fdca26"
            ],
            [
             1,
             "#f0f921"
            ]
           ]
          },
          "colorway": [
           "#636efa",
           "#EF553B",
           "#00cc96",
           "#ab63fa",
           "#FFA15A",
           "#19d3f3",
           "#FF6692",
           "#B6E880",
           "#FF97FF",
           "#FECB52"
          ],
          "font": {
           "color": "#2a3f5f"
          },
          "geo": {
           "bgcolor": "white",
           "lakecolor": "white",
           "landcolor": "#E5ECF6",
           "showlakes": true,
           "showland": true,
           "subunitcolor": "white"
          },
          "hoverlabel": {
           "align": "left"
          },
          "hovermode": "closest",
          "mapbox": {
           "style": "light"
          },
          "paper_bgcolor": "white",
          "plot_bgcolor": "#E5ECF6",
          "polar": {
           "angularaxis": {
            "gridcolor": "white",
            "linecolor": "white",
            "ticks": ""
           },
           "bgcolor": "#E5ECF6",
           "radialaxis": {
            "gridcolor": "white",
            "linecolor": "white",
            "ticks": ""
           }
          },
          "scene": {
           "xaxis": {
            "backgroundcolor": "#E5ECF6",
            "gridcolor": "white",
            "gridwidth": 2,
            "linecolor": "white",
            "showbackground": true,
            "ticks": "",
            "zerolinecolor": "white"
           },
           "yaxis": {
            "backgroundcolor": "#E5ECF6",
            "gridcolor": "white",
            "gridwidth": 2,
            "linecolor": "white",
            "showbackground": true,
            "ticks": "",
            "zerolinecolor": "white"
           },
           "zaxis": {
            "backgroundcolor": "#E5ECF6",
            "gridcolor": "white",
            "gridwidth": 2,
            "linecolor": "white",
            "showbackground": true,
            "ticks": "",
            "zerolinecolor": "white"
           }
          },
          "shapedefaults": {
           "line": {
            "color": "#2a3f5f"
           }
          },
          "ternary": {
           "aaxis": {
            "gridcolor": "white",
            "linecolor": "white",
            "ticks": ""
           },
           "baxis": {
            "gridcolor": "white",
            "linecolor": "white",
            "ticks": ""
           },
           "bgcolor": "#E5ECF6",
           "caxis": {
            "gridcolor": "white",
            "linecolor": "white",
            "ticks": ""
           }
          },
          "title": {
           "x": 0.05
          },
          "xaxis": {
           "automargin": true,
           "gridcolor": "white",
           "linecolor": "white",
           "ticks": "",
           "title": {
            "standoff": 15
           },
           "zerolinecolor": "white",
           "zerolinewidth": 2
          },
          "yaxis": {
           "automargin": true,
           "gridcolor": "white",
           "linecolor": "white",
           "ticks": "",
           "title": {
            "standoff": 15
           },
           "zerolinecolor": "white",
           "zerolinewidth": 2
          }
         }
        },
        "title": {
         "text": "Revenue / Budget for each Bond film"
        },
        "xaxis": {
         "title": {
          "text": "Year of release"
         }
        },
        "yaxis": {
         "title": {
          "text": "Revenue / Budget"
         }
        }
       }
      },
      "text/html": [
       "<div>\n",
       "        \n",
       "        \n",
       "            <div id=\"7e6cb94a-ce47-438a-8fac-1b4626b3d2b4\" class=\"plotly-graph-div\" style=\"height:525px; width:100%;\"></div>\n",
       "            <script type=\"text/javascript\">\n",
       "                require([\"plotly\"], function(Plotly) {\n",
       "                    window.PLOTLYENV=window.PLOTLYENV || {};\n",
       "                    \n",
       "                if (document.getElementById(\"7e6cb94a-ce47-438a-8fac-1b4626b3d2b4\")) {\n",
       "                    Plotly.newPlot(\n",
       "                        '7e6cb94a-ce47-438a-8fac-1b4626b3d2b4',\n",
       "                        [{\"marker\": {\"size\": [2.9320697433333334, 5.552634905, 2.5725742521739132, 5.827649833333333, 3.0418460492957746, 2.67948637037037, 3.086402509090909, 5.940499016666666, 3.718262261904762, 4.78, 5.087598666666667, 4.444444444444445, 6.818181818181818, 6.975, 6.783870967741936, 13.242857142857142, 13.942857142857143, 23.114285714285714, 16.11111111111111, 10.25, 11.74736842105263, 15.688888888888888, 41.63333333333333, 39.45, 59.567035]}, \"mode\": \"markers\", \"text\": [\"Spectre\", \"Skyfall\", \"Quantum of Solace\", \"Casino Royale\", \"Die Another Day\", \"The World is Not Enough\", \"Tomorrow Never Dies\", \"Goldeneye\", \"Licence to Kill\", \"The Living Daylights\", \"A View to a Kill\", \"Never Say Never Again\", \"Octopussy\", \"For Your Eyes Only\", \"Moonraker\", \"The Spy Who Loved Me\", \"The Man with the Golden Gun\", \"Live and Let Die\", \"Diamonds Are Forever\", \"On Her Majesty's Secret Ser\\u2026\", \"You Only Live Twice\", \"Thunderball\", \"Goldfinger\", \"From Russia With Love\", \"Dr. No\"], \"type\": \"scatter\", \"x\": [\"2015-11-06T00:00:00\", \"2012-11-08T00:00:00\", \"2008-11-14T00:00:00\", \"2006-11-17T00:00:00\", \"2002-11-22T00:00:00\", \"1999-11-19T00:00:00\", \"1997-12-19T00:00:00\", \"1995-11-17T00:00:00\", \"1989-07-14T00:00:00\", \"1987-07-31T00:00:00\", \"1985-05-24T00:00:00\", \"1983-10-07T00:00:00\", \"1983-06-10T00:00:00\", \"1981-06-26T00:00:00\", \"1979-06-29T00:00:00\", \"1977-07-13T00:00:00\", \"1974-12-20T00:00:00\", \"1973-06-27T00:00:00\", \"1971-12-17T00:00:00\", \"1969-12-18T00:00:00\", \"1967-06-13T00:00:00\", \"1965-12-29T00:00:00\", \"1964-12-22T00:00:00\", \"1964-04-08T00:00:00\", \"1963-05-08T00:00:00\"], \"y\": [2.9320697433333334, 5.552634905, 2.5725742521739132, 5.827649833333333, 3.0418460492957746, 2.67948637037037, 3.086402509090909, 5.940499016666666, 3.718262261904762, 4.78, 5.087598666666667, 4.444444444444445, 6.818181818181818, 6.975, 6.783870967741936, 13.242857142857142, 13.942857142857143, 23.114285714285714, 16.11111111111111, 10.25, 11.74736842105263, 15.688888888888888, 41.63333333333333, 39.45, 59.567035]}],\n",
       "                        {\"template\": {\"data\": {\"bar\": [{\"error_x\": {\"color\": \"#2a3f5f\"}, \"error_y\": {\"color\": \"#2a3f5f\"}, \"marker\": {\"line\": {\"color\": \"#E5ECF6\", \"width\": 0.5}}, \"type\": \"bar\"}], \"barpolar\": [{\"marker\": {\"line\": {\"color\": \"#E5ECF6\", \"width\": 0.5}}, \"type\": \"barpolar\"}], \"carpet\": [{\"aaxis\": {\"endlinecolor\": \"#2a3f5f\", \"gridcolor\": \"white\", \"linecolor\": \"white\", \"minorgridcolor\": \"white\", \"startlinecolor\": \"#2a3f5f\"}, \"baxis\": {\"endlinecolor\": \"#2a3f5f\", \"gridcolor\": \"white\", \"linecolor\": \"white\", \"minorgridcolor\": \"white\", \"startlinecolor\": \"#2a3f5f\"}, \"type\": \"carpet\"}], \"choropleth\": [{\"colorbar\": {\"outlinewidth\": 0, \"ticks\": \"\"}, \"type\": \"choropleth\"}], \"contour\": [{\"colorbar\": {\"outlinewidth\": 0, \"ticks\": \"\"}, \"colorscale\": [[0.0, \"#0d0887\"], [0.1111111111111111, \"#46039f\"], [0.2222222222222222, \"#7201a8\"], [0.3333333333333333, \"#9c179e\"], [0.4444444444444444, \"#bd3786\"], [0.5555555555555556, \"#d8576b\"], [0.6666666666666666, \"#ed7953\"], [0.7777777777777778, \"#fb9f3a\"], [0.8888888888888888, \"#fdca26\"], [1.0, \"#f0f921\"]], \"type\": \"contour\"}], \"contourcarpet\": [{\"colorbar\": {\"outlinewidth\": 0, \"ticks\": \"\"}, \"type\": \"contourcarpet\"}], \"heatmap\": [{\"colorbar\": {\"outlinewidth\": 0, \"ticks\": \"\"}, \"colorscale\": [[0.0, \"#0d0887\"], [0.1111111111111111, \"#46039f\"], [0.2222222222222222, \"#7201a8\"], [0.3333333333333333, \"#9c179e\"], [0.4444444444444444, \"#bd3786\"], [0.5555555555555556, \"#d8576b\"], [0.6666666666666666, \"#ed7953\"], [0.7777777777777778, \"#fb9f3a\"], [0.8888888888888888, \"#fdca26\"], [1.0, \"#f0f921\"]], \"type\": \"heatmap\"}], \"heatmapgl\": [{\"colorbar\": {\"outlinewidth\": 0, \"ticks\": \"\"}, \"colorscale\": [[0.0, \"#0d0887\"], [0.1111111111111111, \"#46039f\"], [0.2222222222222222, \"#7201a8\"], [0.3333333333333333, \"#9c179e\"], [0.4444444444444444, \"#bd3786\"], [0.5555555555555556, \"#d8576b\"], [0.6666666666666666, \"#ed7953\"], [0.7777777777777778, \"#fb9f3a\"], [0.8888888888888888, \"#fdca26\"], [1.0, \"#f0f921\"]], \"type\": \"heatmapgl\"}], \"histogram\": [{\"marker\": {\"colorbar\": {\"outlinewidth\": 0, \"ticks\": \"\"}}, \"type\": \"histogram\"}], \"histogram2d\": [{\"colorbar\": {\"outlinewidth\": 0, \"ticks\": \"\"}, \"colorscale\": [[0.0, \"#0d0887\"], [0.1111111111111111, \"#46039f\"], [0.2222222222222222, \"#7201a8\"], [0.3333333333333333, \"#9c179e\"], [0.4444444444444444, \"#bd3786\"], [0.5555555555555556, \"#d8576b\"], [0.6666666666666666, \"#ed7953\"], [0.7777777777777778, \"#fb9f3a\"], [0.8888888888888888, \"#fdca26\"], [1.0, \"#f0f921\"]], \"type\": \"histogram2d\"}], \"histogram2dcontour\": [{\"colorbar\": {\"outlinewidth\": 0, \"ticks\": \"\"}, \"colorscale\": [[0.0, \"#0d0887\"], [0.1111111111111111, \"#46039f\"], [0.2222222222222222, \"#7201a8\"], [0.3333333333333333, \"#9c179e\"], [0.4444444444444444, \"#bd3786\"], [0.5555555555555556, \"#d8576b\"], [0.6666666666666666, \"#ed7953\"], [0.7777777777777778, \"#fb9f3a\"], [0.8888888888888888, \"#fdca26\"], [1.0, \"#f0f921\"]], \"type\": \"histogram2dcontour\"}], \"mesh3d\": [{\"colorbar\": {\"outlinewidth\": 0, \"ticks\": \"\"}, \"type\": \"mesh3d\"}], \"parcoords\": [{\"line\": {\"colorbar\": {\"outlinewidth\": 0, \"ticks\": \"\"}}, \"type\": \"parcoords\"}], \"pie\": [{\"automargin\": true, \"type\": \"pie\"}], \"scatter\": [{\"marker\": {\"colorbar\": {\"outlinewidth\": 0, \"ticks\": \"\"}}, \"type\": \"scatter\"}], \"scatter3d\": [{\"line\": {\"colorbar\": {\"outlinewidth\": 0, \"ticks\": \"\"}}, \"marker\": {\"colorbar\": {\"outlinewidth\": 0, \"ticks\": \"\"}}, \"type\": \"scatter3d\"}], \"scattercarpet\": [{\"marker\": {\"colorbar\": {\"outlinewidth\": 0, \"ticks\": \"\"}}, \"type\": \"scattercarpet\"}], \"scattergeo\": [{\"marker\": {\"colorbar\": {\"outlinewidth\": 0, \"ticks\": \"\"}}, \"type\": \"scattergeo\"}], \"scattergl\": [{\"marker\": {\"colorbar\": {\"outlinewidth\": 0, \"ticks\": \"\"}}, \"type\": \"scattergl\"}], \"scattermapbox\": [{\"marker\": {\"colorbar\": {\"outlinewidth\": 0, \"ticks\": \"\"}}, \"type\": \"scattermapbox\"}], \"scatterpolar\": [{\"marker\": {\"colorbar\": {\"outlinewidth\": 0, \"ticks\": \"\"}}, \"type\": \"scatterpolar\"}], \"scatterpolargl\": [{\"marker\": {\"colorbar\": {\"outlinewidth\": 0, \"ticks\": \"\"}}, \"type\": \"scatterpolargl\"}], \"scatterternary\": [{\"marker\": {\"colorbar\": {\"outlinewidth\": 0, \"ticks\": \"\"}}, \"type\": \"scatterternary\"}], \"surface\": [{\"colorbar\": {\"outlinewidth\": 0, \"ticks\": \"\"}, \"colorscale\": [[0.0, \"#0d0887\"], [0.1111111111111111, \"#46039f\"], [0.2222222222222222, \"#7201a8\"], [0.3333333333333333, \"#9c179e\"], [0.4444444444444444, \"#bd3786\"], [0.5555555555555556, \"#d8576b\"], [0.6666666666666666, \"#ed7953\"], [0.7777777777777778, \"#fb9f3a\"], [0.8888888888888888, \"#fdca26\"], [1.0, \"#f0f921\"]], \"type\": \"surface\"}], \"table\": [{\"cells\": {\"fill\": {\"color\": \"#EBF0F8\"}, \"line\": {\"color\": \"white\"}}, \"header\": {\"fill\": {\"color\": \"#C8D4E3\"}, \"line\": {\"color\": \"white\"}}, \"type\": \"table\"}]}, \"layout\": {\"annotationdefaults\": {\"arrowcolor\": \"#2a3f5f\", \"arrowhead\": 0, \"arrowwidth\": 1}, \"coloraxis\": {\"colorbar\": {\"outlinewidth\": 0, \"ticks\": \"\"}}, \"colorscale\": {\"diverging\": [[0, \"#8e0152\"], [0.1, \"#c51b7d\"], [0.2, \"#de77ae\"], [0.3, \"#f1b6da\"], [0.4, \"#fde0ef\"], [0.5, \"#f7f7f7\"], [0.6, \"#e6f5d0\"], [0.7, \"#b8e186\"], [0.8, \"#7fbc41\"], [0.9, \"#4d9221\"], [1, \"#276419\"]], \"sequential\": [[0.0, \"#0d0887\"], [0.1111111111111111, \"#46039f\"], [0.2222222222222222, \"#7201a8\"], [0.3333333333333333, \"#9c179e\"], [0.4444444444444444, \"#bd3786\"], [0.5555555555555556, \"#d8576b\"], [0.6666666666666666, \"#ed7953\"], [0.7777777777777778, \"#fb9f3a\"], [0.8888888888888888, \"#fdca26\"], [1.0, \"#f0f921\"]], \"sequentialminus\": [[0.0, \"#0d0887\"], [0.1111111111111111, \"#46039f\"], [0.2222222222222222, \"#7201a8\"], [0.3333333333333333, \"#9c179e\"], [0.4444444444444444, \"#bd3786\"], [0.5555555555555556, \"#d8576b\"], [0.6666666666666666, \"#ed7953\"], [0.7777777777777778, \"#fb9f3a\"], [0.8888888888888888, \"#fdca26\"], [1.0, \"#f0f921\"]]}, \"colorway\": [\"#636efa\", \"#EF553B\", \"#00cc96\", \"#ab63fa\", \"#FFA15A\", \"#19d3f3\", \"#FF6692\", \"#B6E880\", \"#FF97FF\", \"#FECB52\"], \"font\": {\"color\": \"#2a3f5f\"}, \"geo\": {\"bgcolor\": \"white\", \"lakecolor\": \"white\", \"landcolor\": \"#E5ECF6\", \"showlakes\": true, \"showland\": true, \"subunitcolor\": \"white\"}, \"hoverlabel\": {\"align\": \"left\"}, \"hovermode\": \"closest\", \"mapbox\": {\"style\": \"light\"}, \"paper_bgcolor\": \"white\", \"plot_bgcolor\": \"#E5ECF6\", \"polar\": {\"angularaxis\": {\"gridcolor\": \"white\", \"linecolor\": \"white\", \"ticks\": \"\"}, \"bgcolor\": \"#E5ECF6\", \"radialaxis\": {\"gridcolor\": \"white\", \"linecolor\": \"white\", \"ticks\": \"\"}}, \"scene\": {\"xaxis\": {\"backgroundcolor\": \"#E5ECF6\", \"gridcolor\": \"white\", \"gridwidth\": 2, \"linecolor\": \"white\", \"showbackground\": true, \"ticks\": \"\", \"zerolinecolor\": \"white\"}, \"yaxis\": {\"backgroundcolor\": \"#E5ECF6\", \"gridcolor\": \"white\", \"gridwidth\": 2, \"linecolor\": \"white\", \"showbackground\": true, \"ticks\": \"\", \"zerolinecolor\": \"white\"}, \"zaxis\": {\"backgroundcolor\": \"#E5ECF6\", \"gridcolor\": \"white\", \"gridwidth\": 2, \"linecolor\": \"white\", \"showbackground\": true, \"ticks\": \"\", \"zerolinecolor\": \"white\"}}, \"shapedefaults\": {\"line\": {\"color\": \"#2a3f5f\"}}, \"ternary\": {\"aaxis\": {\"gridcolor\": \"white\", \"linecolor\": \"white\", \"ticks\": \"\"}, \"baxis\": {\"gridcolor\": \"white\", \"linecolor\": \"white\", \"ticks\": \"\"}, \"bgcolor\": \"#E5ECF6\", \"caxis\": {\"gridcolor\": \"white\", \"linecolor\": \"white\", \"ticks\": \"\"}}, \"title\": {\"x\": 0.05}, \"xaxis\": {\"automargin\": true, \"gridcolor\": \"white\", \"linecolor\": \"white\", \"ticks\": \"\", \"title\": {\"standoff\": 15}, \"zerolinecolor\": \"white\", \"zerolinewidth\": 2}, \"yaxis\": {\"automargin\": true, \"gridcolor\": \"white\", \"linecolor\": \"white\", \"ticks\": \"\", \"title\": {\"standoff\": 15}, \"zerolinecolor\": \"white\", \"zerolinewidth\": 2}}}, \"title\": {\"text\": \"Revenue / Budget for each Bond film\"}, \"xaxis\": {\"title\": {\"text\": \"Year of release\"}}, \"yaxis\": {\"title\": {\"text\": \"Revenue / Budget\"}}},\n",
       "                        {\"responsive\": true}\n",
       "                    ).then(function(){\n",
       "                            \n",
       "var gd = document.getElementById('7e6cb94a-ce47-438a-8fac-1b4626b3d2b4');\n",
       "var x = new MutationObserver(function (mutations, observer) {{\n",
       "        var display = window.getComputedStyle(gd).display;\n",
       "        if (!display || display === 'none') {{\n",
       "            console.log([gd, 'removed!']);\n",
       "            Plotly.purge(gd);\n",
       "            observer.disconnect();\n",
       "        }}\n",
       "}});\n",
       "\n",
       "// Listen for the removal of the full notebook cells\n",
       "var notebookContainer = gd.closest('#notebook-container');\n",
       "if (notebookContainer) {{\n",
       "    x.observe(notebookContainer, {childList: true});\n",
       "}}\n",
       "\n",
       "// Listen for the clearing of the current output cell\n",
       "var outputEl = gd.closest('.output');\n",
       "if (outputEl) {{\n",
       "    x.observe(outputEl, {childList: true});\n",
       "}}\n",
       "\n",
       "                        })\n",
       "                };\n",
       "                });\n",
       "            </script>\n",
       "        </div>"
      ]
     },
     "metadata": {},
     "output_type": "display_data"
    }
   ],
   "source": [
    "fig = go.Figure(data=[go.Scatter(\n",
    "    x=bond_movies['Release'] ,\n",
    "    y=bond_movies['prop'],\n",
    "    mode='markers',\n",
    "    text = hover_text,\n",
    "    marker=dict(\n",
    "        size=bubble_size,\n",
    "        )\n",
    ")])\n",
    "\n",
    "fig.update_layout(\n",
    "    title='Revenue / Budget for each Bond film',\n",
    "    xaxis=dict(\n",
    "        title='Year of release',\n",
    "\n",
    "    ),\n",
    "    yaxis=dict(\n",
    "        title='Revenue / Budget',\n",
    "\n",
    "    ),\n",
    ")\n",
    "\n",
    "fig.show()"
   ]
  },
  {
   "cell_type": "code",
   "execution_count": 18,
   "metadata": {},
   "outputs": [],
   "source": [
    "url = 'https://quotecatalog.com/communicator/daniel-craig/'\n",
    "source = urllib.request.urlopen(url).read()\n",
    "soup = BeautifulSoup(source,'lxml')"
   ]
  },
  {
   "cell_type": "code",
   "execution_count": 35,
   "metadata": {},
   "outputs": [],
   "source": [
    "quotes = []\n",
    "quote_text = soup.find_all('div', attrs = {'class':\"quote-card__body\"})\n",
    "for q in quote_text:\n",
    "    qt = (q.text.split('\\xa0')[0].replace('—', ''))\n",
    "    qt = (re.sub('\\[.*\\]','', qt))\n",
    "    qt = qt.split('\\n\\n')\n",
    "    if len(qt) == 1:\n",
    "        quotes.append(qt[0])\n",
    "    else:\n",
    "        for b in qt:\n",
    "            if re.match('Bond:', b) != None or re.match('James Bond:', b) != None:\n",
    "                quotes.append(b.replace(':', '').strip(' '))"
   ]
  },
  {
   "cell_type": "code",
   "execution_count": 47,
   "metadata": {},
   "outputs": [],
   "source": [
    "from nltk.corpus import stopwords\n",
    "stop_words = set(stopwords.words('english'))\n"
   ]
  },
  {
   "cell_type": "code",
   "execution_count": 81,
   "metadata": {},
   "outputs": [],
   "source": [
    "words = []\n",
    "for q in quotes:\n",
    "    for w in (q.split(' ')):\n",
    "        if w != '' and w not in stop_words:\n",
    "            words.append(w)"
   ]
  },
  {
   "cell_type": "code",
   "execution_count": 153,
   "metadata": {},
   "outputs": [
    {
     "data": {
      "image/png": "[encoded data removed]",
      "text/plain": [
       "<Figure size 1440x720 with 1 Axes>"
      ]
     },
     "metadata": {
      "needs_background": "light"
     },
     "output_type": "display_data"
    }
   ],
   "source": [
    "wc = WordCloud(max_words=100, margin=10, background_color='black',\n",
    "scale=3, relative_scaling = 0.5, width=500, height=400,).generate(' '.join(words))\n",
    "plt.figure(figsize=(20,10))\n",
    "plt.imshow(wc)\n",
    "plt.title('Daniel Craig - James Bond top quotes')\n",
    "plt.axis(\"off\")\n",
    "plt.show()"
   ]
  },
  {
   "cell_type": "code",
   "execution_count": 191,
   "metadata": {},
   "outputs": [
    {
     "data": {
      "text/html": [
       "<div>\n",
       "<style scoped>\n",
       "    .dataframe tbody tr th:only-of-type {\n",
       "        vertical-align: middle;\n",
       "    }\n",
       "\n",
       "    .dataframe tbody tr th {\n",
       "        vertical-align: top;\n",
       "    }\n",
       "\n",
       "    .dataframe thead th {\n",
       "        text-align: right;\n",
       "    }\n",
       "</style>\n",
       "<table border=\"1\" class=\"dataframe\">\n",
       "  <thead>\n",
       "    <tr style=\"text-align: right;\">\n",
       "      <th></th>\n",
       "      <th>Film</th>\n",
       "      <th>Actor</th>\n",
       "      <th>Kills</th>\n",
       "      <th>Relationships</th>\n",
       "      <th>Alcohol_Units</th>\n",
       "      <th>Alcohol</th>\n",
       "      <th>Nationality</th>\n",
       "      <th>Rating</th>\n",
       "    </tr>\n",
       "  </thead>\n",
       "  <tbody>\n",
       "    <tr>\n",
       "      <th>0</th>\n",
       "      <td>Dr. No</td>\n",
       "      <td>Sean Connery</td>\n",
       "      <td>4</td>\n",
       "      <td>3</td>\n",
       "      <td>11.5</td>\n",
       "      <td>Medium</td>\n",
       "      <td>Scottish</td>\n",
       "      <td>7.3</td>\n",
       "    </tr>\n",
       "    <tr>\n",
       "      <th>1</th>\n",
       "      <td>From Russia With Love</td>\n",
       "      <td>Sean Connery</td>\n",
       "      <td>11</td>\n",
       "      <td>2</td>\n",
       "      <td>16.0</td>\n",
       "      <td>High</td>\n",
       "      <td>Scottish</td>\n",
       "      <td>7.4</td>\n",
       "    </tr>\n",
       "    <tr>\n",
       "      <th>2</th>\n",
       "      <td>Goldfinger</td>\n",
       "      <td>Sean Connery</td>\n",
       "      <td>9</td>\n",
       "      <td>4</td>\n",
       "      <td>12.0</td>\n",
       "      <td>Medium</td>\n",
       "      <td>Scottish</td>\n",
       "      <td>7.7</td>\n",
       "    </tr>\n",
       "    <tr>\n",
       "      <th>3</th>\n",
       "      <td>Thunderball</td>\n",
       "      <td>Sean Connery</td>\n",
       "      <td>20</td>\n",
       "      <td>5</td>\n",
       "      <td>14.5</td>\n",
       "      <td>Medium</td>\n",
       "      <td>Scottish</td>\n",
       "      <td>7.0</td>\n",
       "    </tr>\n",
       "    <tr>\n",
       "      <th>4</th>\n",
       "      <td>You Only Live Twice</td>\n",
       "      <td>Sean Connery</td>\n",
       "      <td>21</td>\n",
       "      <td>4</td>\n",
       "      <td>9.5</td>\n",
       "      <td>Medium</td>\n",
       "      <td>Scottish</td>\n",
       "      <td>6.9</td>\n",
       "    </tr>\n",
       "  </tbody>\n",
       "</table>\n",
       "</div>"
      ],
      "text/plain": [
       "                    Film         Actor  Kills  Relationships  Alcohol_Units  \\\n",
       "0                 Dr. No  Sean Connery      4              3           11.5   \n",
       "1  From Russia With Love  Sean Connery     11              2           16.0   \n",
       "2             Goldfinger  Sean Connery      9              4           12.0   \n",
       "3            Thunderball  Sean Connery     20              5           14.5   \n",
       "4    You Only Live Twice  Sean Connery     21              4            9.5   \n",
       "\n",
       "  Alcohol Nationality  Rating  \n",
       "0  Medium    Scottish     7.3  \n",
       "1    High    Scottish     7.4  \n",
       "2  Medium    Scottish     7.7  \n",
       "3  Medium    Scottish     7.0  \n",
       "4  Medium    Scottish     6.9  "
      ]
     },
     "execution_count": 191,
     "metadata": {},
     "output_type": "execute_result"
    }
   ],
   "source": [
    "fp2 = 'bond_movie_analysis.csv'\n",
    "bond_analysis = pd.read_csv(fp2)\n",
    "bond_analysis.head()"
   ]
  },
  {
   "cell_type": "code",
   "execution_count": 192,
   "metadata": {},
   "outputs": [],
   "source": [
    "import seaborn as sns"
   ]
  },
  {
   "cell_type": "code",
   "execution_count": 194,
   "metadata": {},
   "outputs": [
    {
     "data": {
      "text/plain": [
       "<matplotlib.axes._subplots.AxesSubplot at 0x1a1b265e80>"
      ]
     },
     "execution_count": 194,
     "metadata": {},
     "output_type": "execute_result"
    },
    {
     "data": {
      "image/png": "[encoded data removed]",
      "text/plain": [
       "<Figure size 720x720 with 2 Axes>"
      ]
     },
     "metadata": {
      "needs_background": "light"
     },
     "output_type": "display_data"
    }
   ],
   "source": [
    "plt.figure(figsize=(10,10))\n",
    "sns.heatmap(bond_analysis.groupby('Actor').mean(),annot=True, fmt=\".02f\", cbar_kws={\"orientation\": \"horizontal\"})"
   ]
  },
  {
   "cell_type": "code",
   "execution_count": null,
   "metadata": {},
   "outputs": [],
   "source": []
  }
 ],
 "metadata": {
  "kernelspec": {
   "display_name": "Python 3",
   "language": "python",
   "name": "python3"
  },
  "language_info": {
   "codemirror_mode": {
    "name": "ipython",
    "version": 3
   },
   "file_extension": ".py",
   "mimetype": "text/x-python",
   "name": "python",
   "nbconvert_exporter": "python",
   "pygments_lexer": "ipython3",
   "version": "3.7.3"
  }
 },
 "nbformat": 4,
 "nbformat_minor": 2
}
